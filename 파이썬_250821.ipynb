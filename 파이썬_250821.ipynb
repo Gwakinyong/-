{
  "nbformat": 4,
  "nbformat_minor": 0,
  "metadata": {
    "colab": {
      "provenance": [],
      "authorship_tag": "ABX9TyOxGD7LYOC9swNB6DbR3GZE",
      "include_colab_link": true
    },
    "kernelspec": {
      "name": "python3",
      "display_name": "Python 3"
    },
    "language_info": {
      "name": "python"
    }
  },
  "cells": [
    {
      "cell_type": "markdown",
      "metadata": {
        "id": "view-in-github",
        "colab_type": "text"
      },
      "source": [
        "<a href=\"https://colab.research.google.com/github/Gwakinyong/hyundai_rotem_AI_studnt/blob/master/%ED%8C%8C%EC%9D%B4%EC%8D%AC_250821.ipynb\" target=\"_parent\"><img src=\"https://colab.research.google.com/assets/colab-badge.svg\" alt=\"Open In Colab\"/></a>"
      ]
    },
    {
      "cell_type": "code",
      "execution_count": 3,
      "metadata": {
        "colab": {
          "base_uri": "https://localhost:8080/"
        },
        "id": "pdcMQ05DFc4-",
        "outputId": "2e5d6e83-7bc5-48bc-b498-06880feb564a"
      },
      "outputs": [
        {
          "output_type": "stream",
          "name": "stdout",
          "text": [
            "멍멍이\n",
            "멍멍이가 소리를 냅니다.\n"
          ]
        }
      ],
      "source": [
        "# 간단하게 class를 하나 정의해 보아요!\n",
        "class Animal(object):\n",
        "    def __init__(self, name) -> None:\n",
        "        self.name = name\n",
        "\n",
        "    def speak(self):\n",
        "        return f'{self.name}가 소리를 냅니다.'\n",
        "\n",
        "# Animal : class명\n",
        "# __init__() : 생성자 함수, initializer, 객체 초기화 담당\n",
        "# self : 생성되는 instance를 가리키고 있는 임시 변수\n",
        "# seak() : method, (비즈니스) 메소드\n",
        "\n",
        "# instance를 생성해보아요!\n",
        "# instance를 이용할때는 dot operator(.)을 사용\n",
        "obj1 = Animal(\"멍멍이\")\n",
        "print(obj1.name) # 멍멍이\n",
        "print(obj1.speak()) # 멍멍이가 소리를 냅니다."
      ]
    },
    {
      "cell_type": "code",
      "source": [
        "# 기존의 class를 확장해서 새로운 class를 만들고 싶어요!\n",
        "# 위에서 정의한 Animal class를 상속받아서 Dog class를 정의\n",
        "class Dog(Animal):\n",
        "    # 원래는 이 안에 __init__가 나와야 해요\n",
        "    # 단, 상속받는 경우에는 이 함수가 안나와도 돼요.\n",
        "    # 만약 나오지 않는다면 상위 class의 __init__()를 사용해요!\n",
        "    def eat(self):\n",
        "        return f'{self.name}이 밥을 먹어요!'\n",
        "\n",
        "my_dog = Dog('시베리안 허스키')\n",
        "print(my_dog.name)\n",
        "print(my_dog.speak())\n",
        "print(my_dog.eat())"
      ],
      "metadata": {
        "colab": {
          "base_uri": "https://localhost:8080/"
        },
        "id": "FwSFY_ZLP-cQ",
        "outputId": "0b482030-8a89-4a53-8501-139761a4d0c9"
      },
      "execution_count": 4,
      "outputs": [
        {
          "output_type": "stream",
          "name": "stdout",
          "text": [
            "시베리안 허스키\n",
            "시베리안 허스키가 소리를 냅니다.\n",
            "시베리안 허스키이 밥을 먹어요!\n"
          ]
        }
      ]
    },
    {
      "cell_type": "code",
      "source": [
        "class Animal(object):\n",
        "    def __init__(self, name) -> None:\n",
        "        self.name = name\n",
        "\n",
        "    def speak(self):\n",
        "        return f'{self.name}가 소리를 냅니다.'\n",
        "\n",
        "class Cat(Animal):\n",
        "    # 메소드를 재정의 할 수 있어요!\n",
        "    def speak(self):\n",
        "        return '냐아아옹~~!!!'\n",
        "\n",
        "my_cat = Cat('페르시안 고양이')\n"
      ],
      "metadata": {
        "id": "EvzSBwLBTNJh"
      },
      "execution_count": 5,
      "outputs": []
    }
  ]
}