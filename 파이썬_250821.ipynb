{
  "nbformat": 4,
  "nbformat_minor": 0,
  "metadata": {
    "colab": {
      "provenance": [],
      "authorship_tag": "ABX9TyOfIeVImwSBvo9f842SYAGv",
      "include_colab_link": true
    },
    "kernelspec": {
      "name": "python3",
      "display_name": "Python 3"
    },
    "language_info": {
      "name": "python"
    }
  },
  "cells": [
    {
      "cell_type": "markdown",
      "metadata": {
        "id": "view-in-github",
        "colab_type": "text"
      },
      "source": [
        "<a href=\"https://colab.research.google.com/github/Gwakinyong/hyundai_rotem_AI_studnt/blob/master/%ED%8C%8C%EC%9D%B4%EC%8D%AC_250821.ipynb\" target=\"_parent\"><img src=\"https://colab.research.google.com/assets/colab-badge.svg\" alt=\"Open In Colab\"/></a>"
      ]
    },
    {
      "cell_type": "code",
      "execution_count": null,
      "metadata": {
        "colab": {
          "base_uri": "https://localhost:8080/"
        },
        "id": "pdcMQ05DFc4-",
        "outputId": "2e5d6e83-7bc5-48bc-b498-06880feb564a"
      },
      "outputs": [
        {
          "output_type": "stream",
          "name": "stdout",
          "text": [
            "멍멍이\n",
            "멍멍이가 소리를 냅니다.\n"
          ]
        }
      ],
      "source": [
        "# 간단하게 class를 하나 정의해 보아요!\n",
        "class Animal(object):\n",
        "    def __init__(self, name) -> None:\n",
        "        self.name = name\n",
        "\n",
        "    def speak(self):\n",
        "        return f'{self.name}가 소리를 냅니다.'\n",
        "\n",
        "# Animal : class명\n",
        "# __init__() : 생성자 함수, initializer, 객체 초기화 담당\n",
        "# self : 생성되는 instance를 가리키고 있는 임시 변수\n",
        "# seak() : method, (비즈니스) 메소드\n",
        "\n",
        "# instance를 생성해보아요!\n",
        "# instance를 이용할때는 dot operator(.)을 사용\n",
        "obj1 = Animal(\"멍멍이\")\n",
        "print(obj1.name) # 멍멍이\n",
        "print(obj1.speak()) # 멍멍이가 소리를 냅니다."
      ]
    },
    {
      "cell_type": "code",
      "source": [
        "# 기존의 class를 확장해서 새로운 class를 만들고 싶어요!\n",
        "# 위에서 정의한 Animal class를 상속받아서 Dog class를 정의\n",
        "class Dog(Animal):\n",
        "    # 원래는 이 안에 __init__가 나와야 해요\n",
        "    # 단, 상속받는 경우에는 이 함수가 안나와도 돼요.\n",
        "    # 만약 나오지 않는다면 상위 class의 __init__()를 사용해요!\n",
        "    def eat(self):\n",
        "        return f'{self.name}이 밥을 먹어요!'\n",
        "\n",
        "my_dog = Dog('시베리안 허스키')\n",
        "print(my_dog.name)\n",
        "print(my_dog.speak())\n",
        "print(my_dog.eat())"
      ],
      "metadata": {
        "colab": {
          "base_uri": "https://localhost:8080/"
        },
        "id": "FwSFY_ZLP-cQ",
        "outputId": "0b482030-8a89-4a53-8501-139761a4d0c9"
      },
      "execution_count": null,
      "outputs": [
        {
          "output_type": "stream",
          "name": "stdout",
          "text": [
            "시베리안 허스키\n",
            "시베리안 허스키가 소리를 냅니다.\n",
            "시베리안 허스키이 밥을 먹어요!\n"
          ]
        }
      ]
    },
    {
      "cell_type": "code",
      "source": [
        "# object는 python이 내장으로 가지고 있는 class\n",
        "# 모든 class는 이 object class의 하위 class이다.\n",
        "class Animal(object):\n",
        "    def __init__(self, name) -> None:\n",
        "        self.name = name\n",
        "\n",
        "    def speak(self):\n",
        "        return f'{self.name}가 소리를 냅니다.'\n",
        "\n",
        "class Cat(Animal):\n",
        "    def __init__(self, name, age) -> None:\n",
        "        # super()\n",
        "        # 자식 클래스에서 부모 클래스의 메소드나 속성을\n",
        "        # 명시적으로 호출할 때 사용\n",
        "        super().__init__(name)\n",
        "        # self.name = name\n",
        "        self.age = age\n",
        "        # 일일이 다 기술하는게 아니라\n",
        "        # 부모가 가지고 있는 __init__()을 이용하고\n",
        "        # 추가적인 부분만 기술하고 싶어요!\n",
        "    # 메소드를 재정의 할 수 있어요!\n",
        "    # method overriding이라고 해요!\n",
        "    def speak(self):\n",
        "        return '냐아아옹~~!!!'\n",
        "\n",
        "my_cat = Cat('페르시안 고양이', 5)\n",
        "print(my_cat.name)\n",
        "print(my_cat.speak())\n"
      ],
      "metadata": {
        "colab": {
          "base_uri": "https://localhost:8080/"
        },
        "id": "EvzSBwLBTNJh",
        "outputId": "3d2bac4e-5d01-4b52-c607-68328952e719"
      },
      "execution_count": null,
      "outputs": [
        {
          "output_type": "stream",
          "name": "stdout",
          "text": [
            "페르시안 고양이\n",
            "냐아아옹~~!!!\n"
          ]
        }
      ]
    },
    {
      "cell_type": "code",
      "source": [
        "class Rectangle:\n",
        "    def __init__(self, width, height) -> None:\n",
        "        self.width = width\n",
        "        self.height = height\n",
        "\n",
        "    def area(self):\n",
        "        return self.width * self.height\n",
        "\n",
        "rect = Rectangle(5, 10)\n",
        "print(rect.area())"
      ],
      "metadata": {
        "colab": {
          "base_uri": "https://localhost:8080/"
        },
        "id": "9E5k3tZCU9oV",
        "outputId": "25ec6488-70b8-4827-84fc-b1aa62a55a1b"
      },
      "execution_count": null,
      "outputs": [
        {
          "output_type": "stream",
          "name": "stdout",
          "text": [
            "50\n"
          ]
        }
      ]
    },
    {
      "cell_type": "code",
      "source": [
        "# 문제 2 : 상속을 이용한 클래스 정의\n",
        "# 목표 : 상속을 사용하여 기존 클래스의 기능을 확장하기\n",
        "\n",
        "# 문제 : 'square' 클래스를 정의하세요\n",
        "# 이 클래스는 'Rectangle' 클래스를 상속받아 만들며,\n",
        "# 한 변의 길이만 가지는 정사각형입니다.\n",
        "\n",
        "class Square(Rectangle):\n",
        "    def __init__(self, num):\n",
        "        super().__init__(num,num)\n",
        "\n",
        "sq = Square(4)\n",
        "print(sq.area())"
      ],
      "metadata": {
        "colab": {
          "base_uri": "https://localhost:8080/"
        },
        "id": "2BtuyzQelV91",
        "outputId": "f4103b24-f41c-43a5-e763-fc3daa734025"
      },
      "execution_count": null,
      "outputs": [
        {
          "output_type": "stream",
          "name": "stdout",
          "text": [
            "16\n"
          ]
        }
      ]
    },
    {
      "cell_type": "code",
      "source": [
        "class Car(object):\n",
        "    def __init__(self, brand, price) -> None:\n",
        "        self.brand = brand\n",
        "        self.price = price\n",
        "\n",
        "    # 객체의 내용을 문자열로 변경해주는 역할\n",
        "    # 기본적으로 제공되는 __str__은 어떻게 문자열로 변경하나요?\n",
        "    # => 객체의 클래스와 메모리 주소를 문자열로 변경하는 일을 해요!\n",
        "    # 일반적으로 내가 원하는 형태로 변경해서 재정의해서 사용!\n",
        "    # overriding해서 사용\n",
        "    def __str__(self) -> str:\n",
        "        return f'자동차의 브랜드는 {self.brand}이고 가격은 {self.price} 입니다.'\n",
        "\n",
        "car1 = Car('BMW', 1000) # instance 생성\n",
        "print(car1) # 내용이 출력되는게 아니라 class명과 메모리 주소가 출력\n",
        "# 사실은 메모리 주소가 아니라 메모리 주소의 해쉬값\n",
        "# 잘 생각해보면 print()함수는 인자 괄호안에 무조건 문자열이 와야함\n",
        "# 만약 문자열이 안오면 문자열로 강제로 변경하려함\n",
        "# car1이라는 객체가 가지는 내용을 출력"
      ],
      "metadata": {
        "colab": {
          "base_uri": "https://localhost:8080/"
        },
        "id": "DTEAlHg-rnfy",
        "outputId": "ddfb84b1-372f-452f-9fba-ea617bec5cfc"
      },
      "execution_count": null,
      "outputs": [
        {
          "output_type": "stream",
          "name": "stdout",
          "text": [
            "자동차의 브랜드는 BMW이고 가격은 1000 입니다.\n"
          ]
        }
      ]
    },
    {
      "cell_type": "code",
      "source": [
        "# 문제 3 : 생성자와 문자열 표현\n",
        "# 목표 : 생성자와 __str__ 메서드 이해하기\n",
        "\n",
        "# 문제 : 'Person' 클래스를 정의하세요\n",
        "# 이 클래스는 이름(name)과 나이(age)를 인스턴스 변수로 가지며,\n",
        "# 객체를 문자열로 표현하는 '__str__' 매서드를 포함합니다.\n",
        "\n",
        "class Person:\n",
        "    def __init__(self, name, age) -> None:\n",
        "        self.name = name\n",
        "        self.age = age\n",
        "\n",
        "    def __str__(self) -> str:\n",
        "        return f'\"Person(name={self.name}, age={self.age})\"'\n",
        "\n",
        "person = Person('Alice', 30)\n",
        "print(person) # 출력 : \"Person(name=Alice, age=30)\""
      ],
      "metadata": {
        "colab": {
          "base_uri": "https://localhost:8080/"
        },
        "id": "MJgTu420wpjs",
        "outputId": "2e1170e4-a86d-4171-ff0a-9f5d7ff759fb"
      },
      "execution_count": null,
      "outputs": [
        {
          "output_type": "stream",
          "name": "stdout",
          "text": [
            "\"Person(name=Alice, age=30)\"\n"
          ]
        }
      ]
    },
    {
      "cell_type": "code",
      "source": [
        "from ast import Add\n",
        "# 다른 magic function 하나만 더 알아보아요!\n",
        "class MyNumber(object):\n",
        "    def __init__(self, num) -> None:\n",
        "        self.num = num\n",
        "\n",
        "    def __add__(self, other):\n",
        "        return self.num + other.num\n",
        "\n",
        "num1 = MyNumber(10)\n",
        "num2 = MyNumber(20)\n",
        "print(num1 + num2) # 30\n",
        "# + 기호는 연산자이고 앞에 오는 객체에 따라서 용법이 달라져요!\n",
        "# + 기호 앞에 Numeric객체(int class, float class의 객체)\n",
        "# int class가 가지고 있는 __add__()라는 magic function이 호출되요!\n",
        "# 이 함수에서 실제적인 코드처리가 이루어져요. (더하기 연산)\n"
      ],
      "metadata": {
        "colab": {
          "base_uri": "https://localhost:8080/"
        },
        "id": "M5hO9IJ4xzWt",
        "outputId": "d2e69714-9359-4b99-e67b-d6d2cc75833f"
      },
      "execution_count": null,
      "outputs": [
        {
          "output_type": "stream",
          "name": "stdout",
          "text": [
            "30\n"
          ]
        }
      ]
    },
    {
      "cell_type": "code",
      "source": [
        "# 문제 7 : 연산자 오버로딩\n",
        "# 목표 : 연산자 오버로딩을 통해 객체 간의 연산 구현하기\n",
        "\n",
        "# 문제 : 'Vector' 클래스를 정의하세요\n",
        "# 이 클래스는 2차원 벡터(x,y)를 나타내며\n",
        "# '+'연산자를 오버로딩하여 두 벡터의 합을 계산할 수 있게 합니다.\n",
        "\n",
        "class Vector:\n",
        "    def __init__(self, x, y):\n",
        "        self.x = x\n",
        "        self.y = y\n",
        "\n",
        "    def __add__(self, other):\n",
        "        #return f'\"Vector(x={self.x+other.x}, y={self.y+other.y})\"'\n",
        "        return Vector(self.x + other.y, self.y + other.y)\n",
        "\n",
        "    def __str__(self):\n",
        "        return f'\"Vector(x={self.x}, y={self.y})\"'\n",
        "\n",
        "v1 = Vector(2, 3)\n",
        "v2 = Vector(4, 5)\n",
        "v3 = v1 + v2\n",
        "print(v3) # 출력 : \"Vector(x=6, y=8)\""
      ],
      "metadata": {
        "colab": {
          "base_uri": "https://localhost:8080/"
        },
        "id": "AWDFN8H4IXFj",
        "outputId": "8d5d0e6b-aa5f-494f-9de0-a7eac30457b1"
      },
      "execution_count": null,
      "outputs": [
        {
          "output_type": "stream",
          "name": "stdout",
          "text": [
            "\"Vector(x=7, y=8)\"\n"
          ]
        }
      ]
    },
    {
      "cell_type": "code",
      "source": [
        "# 목표: 객체 간의 연산 구현하기.\n",
        "\n",
        "# 문제: 'Vector' 클래스를 정의하세요.\n",
        "# 이 클래스는 2차원 벡터(x, y)를 나타내며,\n",
        "# `+` 연산자를 오버로딩하여 두 벡터의 합을 계산할 수 있게 합니다.\n",
        "\n",
        "class Vector:\n",
        "    def __init__(self, x, y):\n",
        "        self.x = x\n",
        "        self.y = y\n",
        "\n",
        "    def __add__(self, other):\n",
        "        return Vector(self.x + other.x, self.y + other.y)\n",
        "\n",
        "    def __str__(self):\n",
        "        return f'Vector(x={self.x}, y={self.y})'\n",
        "\n",
        "v1 = Vector(2, 3)\n",
        "v2 = Vector(4, 5)\n",
        "v3 = v1 + v2\n",
        "print(v3)  # 출력: \"Vector(x=6, y=8)\""
      ],
      "metadata": {
        "colab": {
          "base_uri": "https://localhost:8080/"
        },
        "id": "IKYL4SdRNYfT",
        "outputId": "9c9bf754-dae5-4436-d4c1-50ba02970c3b"
      },
      "execution_count": null,
      "outputs": [
        {
          "output_type": "stream",
          "name": "stdout",
          "text": [
            "Vector(x=6, y=8)\n"
          ]
        }
      ]
    },
    {
      "cell_type": "code",
      "source": [
        "# 문제: 'Employee' 클래스를 정의하고, 이를 상속받는 'Manager' 클래스를 정의하세요.\n",
        "# `Employee` 클래스는 이름(name)과 급여(salary)를 가지며,\n",
        "# `Manager` 클래스는 `Employee`의 모든 속성에 더해 보너스(bonus)를 추가로 가집니다.\n",
        "# `get_salary` 메서드를 오버라이딩하여, 매니저의 급여에 보너스를 포함시키도록 하세요.\n",
        "\n",
        "class Employee:\n",
        "    def __init__(self, name, salary) -> None:\n",
        "        self.name = name\n",
        "        self.salary = salary\n",
        "\n",
        "    def get_salary(self):\n",
        "        return self.salary\n",
        "\n",
        "class Manager(Employee):\n",
        "    def __init__(self, name, salary, bonus):\n",
        "        super().__init__(name, salary)\n",
        "        self.bonus = bonus\n",
        "\n",
        "    def get_salary(self):\n",
        "        return self.salary + self.bonus\n",
        "\n",
        "employee = Employee(\"John\", 50000)\n",
        "manager = Manager(\"Alice\", 60000, 10000)\n",
        "print(employee.get_salary())  # 출력: 50000\n",
        "print(manager.get_salary())   # 출력: 70000"
      ],
      "metadata": {
        "colab": {
          "base_uri": "https://localhost:8080/"
        },
        "id": "YmYMzMLxNnqN",
        "outputId": "d784291d-3677-481b-e2a6-76c78ffab2e6"
      },
      "execution_count": null,
      "outputs": [
        {
          "output_type": "stream",
          "name": "stdout",
          "text": [
            "50000\n",
            "70000\n"
          ]
        }
      ]
    },
    {
      "cell_type": "code",
      "source": [
        "# 추가적으로 기억해야 하는 것!!\n",
        "# property(속성)을 instance를 이용해서 동적으로 추가할 수 있어요!\n",
        "# 객체지향적 특성에는 맞지 않지만 프로그램을 상당히 유연하게 작성할 수 있어요!\n",
        "# 이상한거 하나 보고 갈께요!\n",
        "class MyClass(object):\n",
        "    def __init__(self, a, b) -> None:\n",
        "        self.a = a\n",
        "        self.b = b\n",
        "\n",
        "obj = MyClass(10,20)\n",
        "print(obj.a) # 10\n",
        "#print(obj.c) # c가 없는데 사용하려해서 오류!\n",
        "obj.c = 100 # 이건 오류가 아니에요!... 만약 없는 property에\n",
        "            # 값을 저장하려고 하면 해당 property를 동적으로 생성해요!\n",
        "            # python이 가지는 특징이고 객체지향 특성과는 맞지 않아요!\n",
        "print(obj.c)"
      ],
      "metadata": {
        "colab": {
          "base_uri": "https://localhost:8080/"
        },
        "id": "RMYRntaDVDqD",
        "outputId": "e8b3ed16-3b5a-4f82-f0df-78a91d04e597"
      },
      "execution_count": null,
      "outputs": [
        {
          "output_type": "stream",
          "name": "stdout",
          "text": [
            "10\n",
            "100\n"
          ]
        }
      ]
    },
    {
      "cell_type": "code",
      "source": [
        "# 추가적으로 또 알아야하게 있어요!!\n",
        "\n",
        "# class 안에서 __init__() 안에서 property를 생성할 수 있어요!\n",
        "# 이렇게 만들어진 property를 instance variable이라고 불러요!\n",
        "# instance마다 property를 각각 따로 가지고 있기 때문에 이렇게 부른다.\n",
        "\n",
        "# 그런데 이와 별개의 property가 있어요!\n",
        "# class variable이라고 불리는 property가 있어요!\n",
        "# method내에서 생성되지 않아요! class 내부에서 생성해요!\n",
        "# 그럼 이 class variable의 특징은 무엇인가요?\n",
        "# instance가 class variable을 공유해요!\n",
        "\n",
        "class Employee:\n",
        "\n",
        "    # num_of_emp = 0 # class variable\n",
        "    num_of_emp = 0\n",
        "\n",
        "    def __init__(self, name, salary) -> None:\n",
        "        self.name = name\n",
        "        self.salary = salary\n",
        "        #self.num_of_emp += 1 / 파이썬은 없는 객체 자동 생성 기능이 있어 현재 코드는 초기화 매서드의 공간에만 작동\n",
        "        Employee.num_of_emp += 1 # class단의 객체의 접근을 위해 클래스를 호출하여 해당 메모리에 접근\n",
        "\n",
        "emp_1 = Employee('홍길동', 1000)\n",
        "emp_2 = Employee('신사임당', 50000)\n",
        "emp_3 = Employee('이순신', 10000)\n",
        "\n",
        "print(emp_1.num_of_emp) # 1이 나오는 이유 => namespace"
      ],
      "metadata": {
        "colab": {
          "base_uri": "https://localhost:8080/"
        },
        "id": "Yh3W8vqxX8JC",
        "outputId": "2afd21e0-1770-4962-d303-0c1da32bd5fd"
      },
      "execution_count": null,
      "outputs": [
        {
          "output_type": "stream",
          "name": "stdout",
          "text": [
            "3\n"
          ]
        }
      ]
    }
  ]
}