{
  "nbformat": 4,
  "nbformat_minor": 0,
  "metadata": {
    "colab": {
      "provenance": [],
      "authorship_tag": "ABX9TyPgbANiH/fsrlqKKe/Lu2Aj",
      "include_colab_link": true
    },
    "kernelspec": {
      "name": "python3",
      "display_name": "Python 3"
    },
    "language_info": {
      "name": "python"
    }
  },
  "cells": [
    {
      "cell_type": "markdown",
      "metadata": {
        "id": "view-in-github",
        "colab_type": "text"
      },
      "source": [
        "<a href=\"https://colab.research.google.com/github/Gwakinyong/hyundai_rotem_AI_studnt/blob/master/%ED%8C%8C%EC%9D%B4%EC%8D%AC_250822.ipynb\" target=\"_parent\"><img src=\"https://colab.research.google.com/assets/colab-badge.svg\" alt=\"Open In Colab\"/></a>"
      ]
    },
    {
      "cell_type": "code",
      "execution_count": 2,
      "metadata": {
        "id": "GjHGMEpIIZLR"
      },
      "outputs": [],
      "source": [
        "# 상속 관계로 클래스를 정의할꺼에요!\n",
        "class SuperClass(object):\n",
        "    super_variable = 100 # class variable\n",
        "\n",
        "    # megic function (method) => __로 시작하고 __로 끝나는\n",
        "    # 정해져 있는 이름을 가진 특수한 역할을 하는 method\n",
        "    def __init__(self):\n",
        "        self.name = '슈퍼입니다,' # instance variable\n",
        "                                  # 속성(property)\n",
        "\n",
        "    # instance method\n",
        "    def print_name(self):\n",
        "        print(f'나의 이름은 {self.name}')\n",
        "\n",
        "class SubClass(SuperClass):\n",
        "    sub_variable = 200 # class variable\n",
        "\n",
        "    # __init__()을 정의하지 않으면 상위 클래스의 __init__()을 사용\n",
        "    def __init__(self):\n",
        "        self.adress : '서울'\n",
        "\n",
        ""
      ]
    }
  ]
}