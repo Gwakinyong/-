{
  "nbformat": 4,
  "nbformat_minor": 0,
  "metadata": {
    "colab": {
      "provenance": [],
      "authorship_tag": "ABX9TyNsU1njIRg+Vx0ui4MvwB1m",
      "include_colab_link": true
    },
    "kernelspec": {
      "name": "python3",
      "display_name": "Python 3"
    },
    "language_info": {
      "name": "python"
    }
  },
  "cells": [
    {
      "cell_type": "markdown",
      "metadata": {
        "id": "view-in-github",
        "colab_type": "text"
      },
      "source": [
        "<a href=\"https://colab.research.google.com/github/Gwakinyong/hyundai_rotem_AI_studnt/blob/master/%ED%8C%8C%EC%9D%B4%EC%8D%AC_250820.ipynb\" target=\"_parent\"><img src=\"https://colab.research.google.com/assets/colab-badge.svg\" alt=\"Open In Colab\"/></a>"
      ]
    },
    {
      "cell_type": "code",
      "execution_count": null,
      "metadata": {
        "id": "ExKAAniZ4VtI"
      },
      "outputs": [],
      "source": [
        "# 학생의 이름, 학과, 학번을 저장하는 방법\n",
        "# 학생이 1명 있어요.\n",
        "student_name = '홍길동'\n",
        "student_dept = '철학과'\n",
        "student_num = '20250101' # 문자열이 훨씬 처리하기 좋아요\n",
        "\n",
        "# 학생이 3명이 있어요!\n",
        "student1_name = '홍길동'\n",
        "student1_dept = '철학과'\n",
        "student1_num = '20250101'\n",
        "\n",
        "student2_name = '신사임당'\n",
        "student2_dept = '국어국문'\n",
        "student2_num = '20250111'\n",
        "\n",
        "student3_name = '이순신'\n",
        "student3_dept = '기계공학'\n",
        "student3_num = '20251111'\n",
        "\n",
        "#여러명의 데이터를 저장하려면 어떤 방법이 있을까요?\n",
        "students_name = ['홍길동', '신사임당', '이순신']\n",
        "students_dept = ['철학과', '국어국문', '기계공학']\n",
        "students_num = ['20250101', '20250111', '20251111']\n",
        "\n",
        "students_info = [('홍길동', '철학과', '20250101'),\n",
        "                ('신사임당', '국어국문', '20250111'),\n",
        "                ('이순신', '기계공학', '20251111')]"
      ]
    },
    {
      "cell_type": "code",
      "source": [
        "# 위와 유사하게 한명의 데이터를 논리적인 단위로 묶어\n",
        "# 표현하는 방법에 대해서 알아본다.\n",
        "# 객체를 만들어서 한 객체에 한명의 데이터를 모두 저장\n",
        "# 객체는 당연히 3개가 있어야 해요!\n",
        "# 객체(object, instance)\n",
        "# 객체를 만들려면 반드시 class라는게 있어야 해요!\n",
        "\n",
        "# 그래서 3개의 정보를 저장하는 class를 정의해야 해요!\n",
        "class Student(object):\n",
        "  # 정해져있는 특이한 함수가 나와요!\n",
        "  # 다른 언어에서는 생성자라고 하는데\n",
        "  # Python에서는 initializer라고 해요!\n",
        "  # 이 함수의 역할은 객체를 초기화해주는거예요!\n",
        "  def __init__(self, name, dept, num):\n",
        "    self.name = name # Self가 갖고 있는 name라는 변수 / self.name의 name은 속성(property)\n",
        "    self.dept = dept # Self가 갖고 있는 dept라는 변수\n",
        "    self.num = num   # Self가 갖고 있는 num라는 변수\n",
        "\n",
        "student1 = Student('홍길동', '철학과', '20250101')\n",
        "student2 = Student('신사임당', '국어국문', '20251111')\n",
        "# Class를 마치 함수 호출하듯이 사용\n",
        "# 자동으로 __init__()가 호출되요!\n",
        "# Self.의 의미는 Self가 갖고 있는 인자\n",
        "print(student1.dept)\n",
        "print(student2.dept)"
      ],
      "metadata": {
        "colab": {
          "base_uri": "https://localhost:8080/"
        },
        "id": "zvVMr9RyJns1",
        "outputId": "ab8303db-f26f-4334-9232-76b15906b3c3"
      },
      "execution_count": null,
      "outputs": [
        {
          "output_type": "stream",
          "name": "stdout",
          "text": [
            "철학과\n",
            "국어국문\n"
          ]
        }
      ]
    },
    {
      "cell_type": "code",
      "source": [
        "# 학생에 대한 class를 정의하고\n",
        "# class를 이용해서 instance를 생성한 후 사용해 보아요!\n",
        "class Student(object):\n",
        "  # 특별한 일을 실행하도록 정해져 있는 함수\n",
        "  def __init__(self, name, dept, score):\n",
        "    #초기화 코드가 나와요!\n",
        "    # 객체가 가지고 있는 속성(property)를 정의\n",
        "    self.name = name\n",
        "    self.dept = dept\n",
        "    self.score = score\n",
        "\n",
        "  # 사용자 정의 함수를 만들 수 있어요!\n",
        "  # 함수! 함수처럼 생겼다. => 메소드(method)\n",
        "  # Class안에 정의된 함수를 메소드라고 한다.\n",
        "  def print_info(self):\n",
        "    print(self.name + ' ' + self.dept + ' ' + str(self.score))\n",
        "\n",
        "# instnace(객체)를 생성\n",
        "student1 = Student('신사임당', '국어국문', 3.0)\n",
        "print(student1.name)\n",
        "student1.print_info()\n",
        "\n",
        "student2 = Student('이순신', '기계공학', 4.0)\n",
        "print(student2.name)\n",
        "student2.print_info()"
      ],
      "metadata": {
        "colab": {
          "base_uri": "https://localhost:8080/"
        },
        "id": "MUgR36yfUYGB",
        "outputId": "4da9f05b-4d63-4feb-c5ff-168c88394e7d"
      },
      "execution_count": null,
      "outputs": [
        {
          "output_type": "stream",
          "name": "stdout",
          "text": [
            "신사임당\n",
            "신사임당 국어국문 3.0\n",
            "이순신\n",
            "이순신 기계공학 4.0\n"
          ]
        }
      ]
    },
    {
      "cell_type": "code",
      "source": [
        "# 부릉부릉 자동차를 객체 모델링\n",
        "# 자동차의 특징을 프로그램적으로 표현\n",
        "# 차종, 배기량, 연식, 가격, 문짝수, 제조사, 연료.....\n",
        "# 프로그램에서 필요한 특징을 추린다 => Abstraction(추상화)\n",
        "# 제조사와 모델명과 가격\n",
        "\n",
        "class Car(object):\n",
        "    def __init__(self, brand, model):\n",
        "        # property를 생성(일반적으로 여기에서 property를 생성)\n",
        "        self.brand = brand # instance variable\n",
        "                           # self.brand (property) = brand\n",
        "        self.model = model # instance variable\n",
        "\n",
        "    def display_info(self):\n",
        "        self.price = 1000 # property를 추가할 수 있어요\n",
        "                          # instance variable\n",
        "        print(f'자동차 정보 : {self.brand}, {self.model}, {self.price}')\n",
        "\n",
        "# instance 생성(객체 생성)\n",
        "car1 = Car('BMW', '520D')\n",
        "car2 = Car('제네시스', 'G80')\n",
        "\n",
        "print(car1.brand) # property를 access #BMW\n",
        "#print(car1.price) # error price는 없어요\n",
        "car1.display_info() # 자동차 정보 : BMW. 520D, 1000\n",
        "print(car1.price) # 23번 줄에서 실행을 했기 때문에 실행이 가능"
      ],
      "metadata": {
        "colab": {
          "base_uri": "https://localhost:8080/"
        },
        "id": "qAm7iTasAWN0",
        "outputId": "dbe30140-d527-4471-c43b-5d3b00f71078"
      },
      "execution_count": 4,
      "outputs": [
        {
          "output_type": "stream",
          "name": "stdout",
          "text": [
            "BMW\n",
            "자동차 정보 : BMW, 520D, 1000\n",
            "1000\n"
          ]
        }
      ]
    },
    {
      "cell_type": "code",
      "source": [
        "# class variable\n",
        "# instance variable과 대비되는 개념\n",
        "class Employee: # 직원 class\n",
        "\n",
        "    company_name = 'Google' # class variable\n",
        "                            # 모든 instance가 property를 공유\n",
        "\n",
        "    def __init__(self, name, position):\n",
        "        self.name = name            # instance variable, property, attribute\n",
        "        self.position = position\n",
        "\n",
        "emp1 = Employee('홍길동', '매니저')\n",
        "emp2 = Employee('신사임당', '개발자')\n",
        "\n",
        "print(emp1.name, emp1.position, emp1.company_name)\n",
        "print(emp2.name, emp2.position, emp2.company_name)"
      ],
      "metadata": {
        "colab": {
          "base_uri": "https://localhost:8080/"
        },
        "id": "gg7VB7HDEo1U",
        "outputId": "c7bdddff-1fa4-4def-bed5-5132dba0dce4"
      },
      "execution_count": 12,
      "outputs": [
        {
          "output_type": "stream",
          "name": "stdout",
          "text": [
            "홍길동 매니저 Google\n",
            "신사임당 개발자 Google\n"
          ]
        }
      ]
    },
    {
      "cell_type": "code",
      "source": [
        "# 문제 1 : 간단한 클래식 정의\n",
        "# 목표 : 클래스 정의와 인스턴스 생성 이해\n",
        "\n",
        "# 문제 : 'Rectangle' 클래스를 정의하세요.\n",
        "# 이 클래스는 가로(width)와 세로(height)를 인스턴스 변수로 가지며,\n",
        "# 면적을 계산하는 'area' 매서드를 포함합니다.\n",
        "\n",
        "class Rectangle(object):\n",
        "    def __init__(self, width, height):\n",
        "       self.width = width\n",
        "       self.height = height\n",
        "\n",
        "    def area(self):\n",
        "        return self.width * self.height\n",
        "\n",
        "rect = Rectangle(5, 10)\n",
        "print(rect.area())"
      ],
      "metadata": {
        "colab": {
          "base_uri": "https://localhost:8080/"
        },
        "id": "VyHct6JmLIa-",
        "outputId": "916df2d5-0023-4323-97c3-87409fcd0f7d"
      },
      "execution_count": 25,
      "outputs": [
        {
          "output_type": "stream",
          "name": "stdout",
          "text": [
            "50\n"
          ]
        }
      ]
    }
  ]
}