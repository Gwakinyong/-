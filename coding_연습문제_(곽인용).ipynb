{
  "nbformat": 4,
  "nbformat_minor": 0,
  "metadata": {
    "colab": {
      "provenance": [],
      "authorship_tag": "ABX9TyOeDVh6ivrrUighpFWeyF8E",
      "include_colab_link": true
    },
    "kernelspec": {
      "name": "python3",
      "display_name": "Python 3"
    },
    "language_info": {
      "name": "python"
    }
  },
  "cells": [
    {
      "cell_type": "markdown",
      "metadata": {
        "id": "view-in-github",
        "colab_type": "text"
      },
      "source": [
        "<a href=\"https://colab.research.google.com/github/Gwakinyong/hyundai_rotem_AI_studnt/blob/master/coding_%EC%97%B0%EC%8A%B5%EB%AC%B8%EC%A0%9C_(%EA%B3%BD%EC%9D%B8%EC%9A%A9).ipynb\" target=\"_parent\"><img src=\"https://colab.research.google.com/assets/colab-badge.svg\" alt=\"Open In Colab\"/></a>"
      ]
    },
    {
      "cell_type": "code",
      "execution_count": null,
      "metadata": {
        "colab": {
          "base_uri": "https://localhost:8080/"
        },
        "id": "nrpX5MRUajnN",
        "outputId": "1cbe34ae-57fa-4721-abb7-38648c0b7b4b"
      },
      "outputs": [
        {
          "output_type": "stream",
          "name": "stdout",
          "text": [
            "10\n"
          ]
        }
      ],
      "source": [
        "# 문제 1: 리스트의 합 구하기\n",
        "# 주어진 리스트의 모든 요소의 합을 구하는 함수를 작성하세요.\n",
        "\n",
        "def sum_of_list(lst):\n",
        "    my_lst = sum(lst)\n",
        "    return my_lst\n",
        "\n",
        "print(sum_of_list([1, 2, 3, 4]))  # 출력: 10"
      ]
    },
    {
      "cell_type": "code",
      "source": [
        "# 문제 2: 리스트에서 최댓값과 최솟값 구하기\n",
        "# 리스트에서 최댓값과 최솟값을 구하는 함수를 작성하세요.\n",
        "\n",
        "def max_and_min(lst):\n",
        "    lst.sort()\n",
        "    return lst[-1], lst[0]\n",
        "\n",
        "print(max_and_min([10, 20, 4, 45, 99]))  # 출력: (99, 4)"
      ],
      "metadata": {
        "colab": {
          "base_uri": "https://localhost:8080/"
        },
        "id": "8AZ58XnlbTti",
        "outputId": "b5e6e654-f1f5-478b-8667-12fe8ee0b98b"
      },
      "execution_count": null,
      "outputs": [
        {
          "output_type": "stream",
          "name": "stdout",
          "text": [
            "(99, 4)\n"
          ]
        }
      ]
    },
    {
      "cell_type": "code",
      "source": [
        "# 문제 3: 리스트 뒤집기\n",
        "# 주어진 리스트를 역순으로 뒤집는 함수를 작성하세요.\n",
        "# (직접 구현해 보세요, list.reverse() 사용하지 말 것)\n",
        "\n",
        "def reverse_list(lst):\n",
        "    result = lst[::-1]\n",
        "    return result\n",
        "\n",
        "print(reverse_list([1, 2, 3, 4]))  # 출력: [4, 3, 2, 1]\n"
      ],
      "metadata": {
        "colab": {
          "base_uri": "https://localhost:8080/"
        },
        "id": "mTlZMrnddRYo",
        "outputId": "3b484d2f-cdc8-4d8a-b4f3-90fc0ff96e6d"
      },
      "execution_count": null,
      "outputs": [
        {
          "output_type": "stream",
          "name": "stdout",
          "text": [
            "[4, 3, 2, 1]\n"
          ]
        }
      ]
    },
    {
      "cell_type": "code",
      "source": [
        "# 문제 4: 리스트 중복 제거\n",
        "# 리스트에서 중복된 요소를 제거하고, 중복이 제거된 리스트를 반환하는 함수를 작성하세요.\n",
        "\n",
        "def remove_duplicates(lst):\n",
        "    result = list(set(lst))\n",
        "    return result\n",
        "\n",
        "print(remove_duplicates([1, 2, 2, 3, 4, 4, 5]))  # 출력: [1, 2, 3, 4, 5]"
      ],
      "metadata": {
        "colab": {
          "base_uri": "https://localhost:8080/"
        },
        "id": "nCeN7zf2jL0X",
        "outputId": "42f947a2-ca6e-4fee-b40d-bc997e518db7"
      },
      "execution_count": null,
      "outputs": [
        {
          "output_type": "stream",
          "name": "stdout",
          "text": [
            "[1, 2, 3, 4, 5]\n"
          ]
        }
      ]
    },
    {
      "cell_type": "code",
      "source": [
        "# 문제 5: 리스트 요소들의 곱 구하기\n",
        "# 리스트의 모든 요소의 곱을 구하는 함수를 작성하세요.\n",
        "\n",
        "def multiply_list(lst):\n",
        "    lst_result = 1  # Initialize the result to 1\n",
        "    for mst in lst:\n",
        "        lst_result = lst_result * mst\n",
        "    return lst_result\n",
        "\n",
        "print(multiply_list([1, 2, 3, 4]))  # 출력: 24"
      ],
      "metadata": {
        "colab": {
          "base_uri": "https://localhost:8080/"
        },
        "id": "fdYF0uK6uzXK",
        "outputId": "d4a86c00-955d-4339-aa70-b965576311fb"
      },
      "execution_count": null,
      "outputs": [
        {
          "output_type": "stream",
          "name": "stdout",
          "text": [
            "24\n"
          ]
        }
      ]
    },
    {
      "cell_type": "code",
      "source": [
        "# 문제 6: 리스트에서 짝수와 홀수 구분하기\n",
        "# 주어진 리스트에서 짝수와 홀수를 구분하여 별도의 리스트에 저장한 뒤 반환하는 함수를 작성하세요.\n",
        "\n",
        "def separate_even_odd(lst):\n",
        "    co_result = [tmp for tmp in lst if tmp % 2 == 0]\n",
        "    co1_result = [tmp for tmp in lst if tmp % 2 != 0]\n",
        "    return(co_result, co1_result)\n",
        "\n",
        "print(separate_even_odd([1, 2, 3, 4, 5, 6, 7, 8, 9]))\n",
        "# 출력: ([2, 4, 6, 8], [1, 3, 5, 7, 9])"
      ],
      "metadata": {
        "colab": {
          "base_uri": "https://localhost:8080/"
        },
        "id": "W2OfXgFCwSmk",
        "outputId": "f55f544d-bd0e-4fe4-b990-c751cbe54564"
      },
      "execution_count": null,
      "outputs": [
        {
          "output_type": "stream",
          "name": "stdout",
          "text": [
            "([2, 4, 6, 8], [1, 3, 5, 7, 9])\n"
          ]
        }
      ]
    },
    {
      "cell_type": "code",
      "source": [
        "# 문제 7: 리스트 요소들의 위치 교환\n",
        "# 리스트의 첫 번째 요소와 마지막 요소의 위치를 바꾸는 함수를 작성하세요.\n",
        "\n",
        "def swap_first_last(lst):\n",
        "    new_lst = lst[:]\n",
        "    lst[0] = lst[-1]\n",
        "    lst[-1] = new_lst[0]\n",
        "    return lst\n",
        "\n",
        "print(swap_first_last([1, 2, 3, 4, 5]))  # 출력: [5, 2, 3, 4, 1]"
      ],
      "metadata": {
        "colab": {
          "base_uri": "https://localhost:8080/"
        },
        "id": "GWir0KSmx46j",
        "outputId": "07410f7e-9896-47ce-a938-00b21adf1f2c"
      },
      "execution_count": null,
      "outputs": [
        {
          "output_type": "stream",
          "name": "stdout",
          "text": [
            "[5, 2, 3, 4, 1]\n"
          ]
        }
      ]
    },
    {
      "cell_type": "code",
      "source": [
        "# 문제 8: 리스트에서 특정 요소의 모든 인덱스 찾기\n",
        "# 리스트에서 특정 요소가 나타나는 모든 인덱스를 리스트로 반환하는 함수를 작성하세요.\n",
        "\n",
        "def find_all_indices(lst, value):\n",
        "    new_list = [tmp for tmp in lst if tmp % value != 0]\n",
        "    return new_list\n",
        "\n",
        "print(find_all_indices([1, 2, 3, 2, 4, 2, 5], 2))  # 출력: [1, 3, 5]"
      ],
      "metadata": {
        "colab": {
          "base_uri": "https://localhost:8080/"
        },
        "id": "B1TEde1t3rHf",
        "outputId": "f2dafeda-5a20-4a7c-ea6d-f1f24d951cf8"
      },
      "execution_count": null,
      "outputs": [
        {
          "output_type": "stream",
          "name": "stdout",
          "text": [
            "[1, 3, 5]\n"
          ]
        }
      ]
    },
    {
      "cell_type": "code",
      "source": [
        "# 문제 9: 리스트의 중간 요소 찾기\n",
        "# 리스트의 중간에 있는 요소를 반환하는 함수를 작성하세요.\n",
        "# 리스트의 길이가 짝수일 경우 두 개의 중간 요소를 반환하세요.\n",
        "\n",
        "def find_middle(lst):\n",
        "    if len(lst) % 2 == 0:\n",
        "      middle_len = len(lst) // 2\n",
        "      return tuple(lst[middle_len-1:middle_len+1])\n",
        "    else:\n",
        "      middle_len = round(len(lst) // 2)\n",
        "      return lst[middle_len]\n",
        "\n",
        "print(find_middle([1, 2, 3, 4, 5]))  # 출력: 3\n",
        "print(find_middle([1, 2, 3, 4]))     # 출력: (2, 3)"
      ],
      "metadata": {
        "colab": {
          "base_uri": "https://localhost:8080/"
        },
        "id": "98HkK_iz4XME",
        "outputId": "32eb53c6-fe20-4a0c-93d4-6dab6217e5bd"
      },
      "execution_count": null,
      "outputs": [
        {
          "output_type": "stream",
          "name": "stdout",
          "text": [
            "3\n",
            "(2, 3)\n"
          ]
        }
      ]
    },
    {
      "cell_type": "code",
      "source": [
        "# 문제 10: 중첩 리스트 펼치기 (Flattening)\n",
        "# 중첩된 리스트를 평평하게 만들어 단일 리스트로 반환하는 함수를 작성하세요.\n",
        "\n",
        "def flatten(lst):\n",
        "    result = []\n",
        "    for item in lst:\n",
        "        if isinstance(item, list):\n",
        "            result.extend(flatten(item))\n",
        "        else:\n",
        "            result.append(item)\n",
        "    return result\n",
        "\n",
        "print(flatten([1, [2, 3], [4, [5, 6]], 7]))  # 출력: [1, 2, 3, 4, 5, 6, 7]"
      ],
      "metadata": {
        "colab": {
          "base_uri": "https://localhost:8080/"
        },
        "id": "KSaQ-vsL8qbl",
        "outputId": "4742517d-9019-4a7f-98b0-24e3b89e2a98"
      },
      "execution_count": null,
      "outputs": [
        {
          "output_type": "stream",
          "name": "stdout",
          "text": [
            "[1, 2, 3, 4, 5, 6, 7]\n"
          ]
        }
      ]
    },
    {
      "cell_type": "markdown",
      "source": [
        "# 딕셔너리\n",
        "\n",
        "--------------------------------------------------------------------------------\n",
        "\n",
        "\n"
      ],
      "metadata": {
        "id": "6xExQHMVBbSi"
      }
    },
    {
      "cell_type": "code",
      "source": [
        "# 문제 1: 딕셔너리에서 값의 합 구하기\n",
        "# 주어진 딕셔너리에서 모든 값의 합을 구하는 함수를 작성하세요.\n",
        "# (딕셔너리의 값은 모두 숫자라고 가정합니다.)\n",
        "\n",
        "def sum_of_dict_values(d):\n",
        "    result = sum(d.values())\n",
        "    return result\n",
        "\n",
        "print(sum_of_dict_values({'a': 100, 'b': 200, 'c': 300}))  # 출력: 600"
      ],
      "metadata": {
        "colab": {
          "base_uri": "https://localhost:8080/"
        },
        "id": "V8Ya6V9yBiEj",
        "outputId": "62d39520-bcf8-4666-a6d4-8d62015fdfe4"
      },
      "execution_count": null,
      "outputs": [
        {
          "output_type": "stream",
          "name": "stdout",
          "text": [
            "600\n"
          ]
        }
      ]
    },
    {
      "cell_type": "code",
      "source": [
        "# 문제 2: 딕셔너리에서 특정 값 찾기\n",
        "# 딕셔너리에서 특정 값을 가지는 첫 번째 키를 반환하는 함수를 작성하세요.\n",
        "# 값이 없는 경우 None을 반환합니다.\n",
        "\n",
        "def find_key_by_value(d, value):\n",
        "    for key, val in d.items():\n",
        "        if val == value:\n",
        "            return key\n",
        "    return None\n",
        "\n",
        "print(find_key_by_value({'a': 100, 'b': 200, 'c': 300}, 200))  # 출력: 'b'\n",
        "print(find_key_by_value({'a': 100, 'b': 200, 'c': 300}, 400))  # 출력: None"
      ],
      "metadata": {
        "colab": {
          "base_uri": "https://localhost:8080/"
        },
        "id": "6BGirSGaGD58",
        "outputId": "36a63fda-d99a-4618-fa23-595c48677ee6"
      },
      "execution_count": null,
      "outputs": [
        {
          "output_type": "stream",
          "name": "stdout",
          "text": [
            "b\n",
            "None\n"
          ]
        }
      ]
    },
    {
      "cell_type": "code",
      "source": [
        "# 문제 3: 키 값 뒤집기\n",
        "# 주어진 딕셔너리에서 키와 값을 뒤집어 새로운 딕셔너리를 반환하는\n",
        "# 함수를 작성하세요. (값은 고유하다고 가정합니다.)\n",
        "\n",
        "def invert_dict(d):\n",
        "    new1_dict = {}\n",
        "    for key, val in d.items():\n",
        "        new_dict = {val: key}\n",
        "        new1_dict.update(new_dict)\n",
        "    return new1_dict\n",
        "\n",
        "print(invert_dict({'a': 1, 'b': 2, 'c': 3}))\n",
        "# 출력: {1: 'a', 2: 'b', 3: 'c'}"
      ],
      "metadata": {
        "colab": {
          "base_uri": "https://localhost:8080/"
        },
        "id": "hjk8kpmlKMNw",
        "outputId": "26630027-1701-4119-f912-a635adaf853e"
      },
      "execution_count": null,
      "outputs": [
        {
          "output_type": "stream",
          "name": "stdout",
          "text": [
            "{1: 'a', 2: 'b', 3: 'c'}\n"
          ]
        }
      ]
    },
    {
      "cell_type": "code",
      "source": [
        "# 문제 4: 두 딕셔너리 합치기\n",
        "# 두 개의 딕셔너리를 합쳐서 새로운 딕셔너리를 반환하는 함수를 작성하세요.\n",
        "# 만약 동일한 키가 존재하면 두 값의 합을 사용하세요.\n",
        "\n",
        "def merge_dicts(d1, d2):\n",
        "    for key, val in d2.items():\n",
        "        if key in d1:\n",
        "            d1[key] = d1[key] + val\n",
        "        else:\n",
        "            d1[key] = val\n",
        "    return d1\n",
        "\n",
        "print(merge_dicts({'a': 100, 'b': 200}, {'b': 300, 'c': 400}))\n",
        "# 출력: {'a': 100, 'b': 500, 'c': 400}"
      ],
      "metadata": {
        "colab": {
          "base_uri": "https://localhost:8080/"
        },
        "id": "BNl6vqxxNSol",
        "outputId": "f26ec195-7587-47d3-8fdf-f2c8a18eda76"
      },
      "execution_count": null,
      "outputs": [
        {
          "output_type": "stream",
          "name": "stdout",
          "text": [
            "{'a': 100, 'b': 500, 'c': 400}\n"
          ]
        }
      ]
    },
    {
      "cell_type": "code",
      "source": [
        "# 문제 5: 딕셔너리 정렬하기\n",
        "# 주어진 딕셔너리를 값에 따라 오름차순으로 정렬된 딕셔너리를 반환하는 함수를 작성하세요.\n",
        "\n",
        "def sort_dict_by_value(d):\n",
        "    sort_values = sorted(d.items())\n",
        "    new_dict = dict(sort_values)\n",
        "    return new_dict\n",
        "\n",
        "print(sort_dict_by_value({'a': 3, 'b': 1, 'c': 2}))\n",
        "# 출력: {'b': 1, 'c': 2, 'a': 3}"
      ],
      "metadata": {
        "colab": {
          "base_uri": "https://localhost:8080/"
        },
        "id": "5Oo_gdShSEXb",
        "outputId": "d0f26a9e-5c27-4ef8-918a-268a90bcc71a"
      },
      "execution_count": null,
      "outputs": [
        {
          "output_type": "stream",
          "name": "stdout",
          "text": [
            "{'a': 3, 'b': 1, 'c': 2}\n"
          ]
        }
      ]
    },
    {
      "cell_type": "code",
      "source": [
        "# 문제 6: 중첩 딕셔너리에서 값 가져오기\n",
        "# 중첩된 딕셔너리에서 특정 키의 값을 가져오는 함수를 작성하세요.\n",
        "# 키가 없으면 None을 반환합니다.\n",
        "\n",
        "def get_nested_value(d, keys):\n",
        "    for key, val in d.items():\n",
        "        if key == keys[0]:\n",
        "          for key, val in val.items():\n",
        "            if key == keys[1]:\n",
        "              for key, val in val.items():\n",
        "                if key == keys[2]:\n",
        "                  return val\n",
        "    return None\n",
        "\n",
        "nested_dict = {'a': {'b': {'c': 100}}}\n",
        "print(get_nested_value(nested_dict, ['a', 'b', 'c']))  # 출력: 100\n",
        "print(get_nested_value(nested_dict, ['a', 'b', 'x']))  # 출력: None"
      ],
      "metadata": {
        "colab": {
          "base_uri": "https://localhost:8080/"
        },
        "id": "vFgQZcvBYpni",
        "outputId": "f3362404-d344-4059-e551-bddec8192252"
      },
      "execution_count": null,
      "outputs": [
        {
          "output_type": "stream",
          "name": "stdout",
          "text": [
            "100\n",
            "None\n"
          ]
        }
      ]
    },
    {
      "cell_type": "code",
      "source": [
        "# 문제 7: 키와 값 스왑하기\n",
        "# 딕셔너리에서 키와 값을 스왑하고, 동일한 값을 가진 키들이 있을 경우\n",
        "# 리스트로 묶는 함수를 작성하세요.\n",
        "\n",
        "def swap_keys_values(d):\n",
        "    new_dict = {}\n",
        "    for key, val in d.items():\n",
        "        if val not in new_dict:\n",
        "          new_dict[val] = [key]\n",
        "        else:\n",
        "          new_dict[val].append(key)\n",
        "    return new_dict\n",
        "\n",
        "\n",
        "print(swap_keys_values({'a': 1, 'b': 2, 'c': 1}))  # 출력: {1: ['a', 'c'], 2: 'b'}"
      ],
      "metadata": {
        "colab": {
          "base_uri": "https://localhost:8080/"
        },
        "id": "wZqYWLyaaM9v",
        "outputId": "9d7e0518-1a80-444c-c3fd-9e36c3239494"
      },
      "execution_count": null,
      "outputs": [
        {
          "output_type": "stream",
          "name": "stdout",
          "text": [
            "{1: ['a', 'c'], 2: ['b']}\n"
          ]
        }
      ]
    },
    {
      "cell_type": "code",
      "source": [
        "# 문제 8: 딕셔너리 필터링\n",
        "# 주어진 딕셔너리에서 특정 값을 가지는 키-값 쌍만 남겨 새로운 딕셔너리를\n",
        "# 반환하는 함수를 작성하세요.\n",
        "\n",
        "def filter_dict_by_value(d, value):\n",
        "    new_dic = {}\n",
        "    for key, val in d.items():\n",
        "      if val == value:\n",
        "        new_dic[key] = val\n",
        "    return new_dic\n",
        "\n",
        "print(filter_dict_by_value({'a': 100, 'b': 200, 'c': 100}, 100))\n",
        "# 출력: {'a': 100, 'c': 100}"
      ],
      "metadata": {
        "colab": {
          "base_uri": "https://localhost:8080/"
        },
        "id": "ECU3UalJnZ62",
        "outputId": "fd2d64a1-9d6c-4774-d85e-411972508457"
      },
      "execution_count": null,
      "outputs": [
        {
          "output_type": "stream",
          "name": "stdout",
          "text": [
            "{'a': 100, 'c': 100}\n"
          ]
        }
      ]
    },
    {
      "cell_type": "code",
      "source": [
        "# 문제 9: 두 딕셔너리의 공통 키 찾기\n",
        "# 두 딕셔너리에서 공통된 key와 value를 가진 모든 키-값 쌍을 반환하는 함수를 작성하세요.\n",
        "\n",
        "def common_keys(d1, d2):\n",
        "    com_dic = {}\n",
        "    for key, val in d1.items():\n",
        "        for key2, val2 in d2.items():\n",
        "            if key == key2:\n",
        "                if val == val2:\n",
        "                    com_dic[key] = val\n",
        "                    return dict(com_dic)\n",
        "                else:\n",
        "                    pass\n",
        "\n",
        "print(common_keys({'a': 100, 'b': 200, 'c': 300}, {'b': 200, 'c': 400, 'd': 500}))\n",
        "# 출력: {'b': 200}"
      ],
      "metadata": {
        "id": "5uOZLpNL3ybV",
        "colab": {
          "base_uri": "https://localhost:8080/"
        },
        "outputId": "41bb9860-dfed-448e-f2af-15fa25576bdc"
      },
      "execution_count": null,
      "outputs": [
        {
          "output_type": "stream",
          "name": "stdout",
          "text": [
            "{'b': 200}\n"
          ]
        }
      ]
    },
    {
      "cell_type": "code",
      "source": [
        "# 문제 10: 리스트의 딕셔너리로 변환\n",
        "# 두 개의 리스트를 받아서 하나는 키, 다른 하나는 값으로 사용하여 딕셔너리를\n",
        "# 생성하는 함수를 작성하세요.\n",
        "# 리스트의 길이가 다르면 더 짧은 길이에 맞춰서 딕셔너리를 만드세요.\n",
        "\n",
        "def lists_to_dict(keys, values):\n",
        "    new_dict = {}\n",
        "    i = 0\n",
        "    if len(keys) == len(values):\n",
        "        for key in keys:\n",
        "            new_dict[key] = values[i]\n",
        "            i += 1\n",
        "        return new_dict\n",
        "    if len(keys) > len(values):\n",
        "        for val in values:\n",
        "            new_dict[keys[i]] = val\n",
        "            i += 1\n",
        "        return new_dict\n",
        "    if len(keys) < len(values):\n",
        "        for key in keys:\n",
        "            new_dict[key] = values[i]\n",
        "            i += 1\n",
        "        return new_dict\n",
        "\n",
        "keys = ['a', 'b', 'c']\n",
        "values = [1, 2, 3]\n",
        "print(lists_to_dict(keys, values))  # 출력: {'a': 1, 'b': 2, 'c': 3}"
      ],
      "metadata": {
        "colab": {
          "base_uri": "https://localhost:8080/"
        },
        "id": "ySEcQmBppsjI",
        "outputId": "333c0dfc-1cfb-45b5-bac8-1e411190fefe"
      },
      "execution_count": null,
      "outputs": [
        {
          "output_type": "stream",
          "name": "stdout",
          "text": [
            "{'a': 1, 'b': 2, 'c': 3}\n"
          ]
        }
      ]
    },
    {
      "cell_type": "markdown",
      "source": [
        "---\n",
        "# data type 연습문제"
      ],
      "metadata": {
        "id": "MopsSoDn2-nr"
      }
    },
    {
      "cell_type": "code",
      "source": [
        "# 문제 1: 숫자 뒤집기\n",
        "# 주어진 정수의 자리수를 반대로 뒤집는 함수를 작성하세요.\n",
        "# (음수도 처리해야 합니다)\n",
        "\n",
        "def reverse_integer(n):\n",
        "    str_n = str(n)\n",
        "    if str_n[0] == '-':\n",
        "        return -int(str_n[1:][::-1])\n",
        "    else:\n",
        "        return str_n[::-1]\n",
        "\n",
        "print(reverse_integer(12345))  # 출력: 54321\n",
        "print(reverse_integer(-12345))  # 출력: -54321"
      ],
      "metadata": {
        "id": "ddOmAtAO3H6p",
        "colab": {
          "base_uri": "https://localhost:8080/"
        },
        "outputId": "dc2e5cf5-2b59-41c6-9541-4433fb8492f2"
      },
      "execution_count": null,
      "outputs": [
        {
          "output_type": "stream",
          "name": "stdout",
          "text": [
            "54321\n",
            "-54321\n"
          ]
        }
      ]
    },
    {
      "cell_type": "code",
      "source": [
        "# 문제 2: 문자열 문자 수 세기\n",
        "# 주어진 문자열에서 각 문자의 발생 횟수를 세고, 이를 딕셔너리 형태로 반환하는\n",
        "# 함수를 작성하세요.\n",
        "\n",
        "def count_characters(s):\n",
        "    return {s[cxi] : s.count(s[cxi]) for cxi in range(len(s))}\n",
        "\n",
        "print(count_characters(\"hello\"))  # 출력: {'h': 1, 'e': 1, 'l': 2, 'o': 1}\n"
      ],
      "metadata": {
        "colab": {
          "base_uri": "https://localhost:8080/"
        },
        "id": "XznSMeBgh6Xg",
        "outputId": "f600e91c-d641-487d-e692-e36f18a254b5"
      },
      "execution_count": null,
      "outputs": [
        {
          "output_type": "stream",
          "name": "stdout",
          "text": [
            "{'h': 1, 'e': 1, 'l': 2, 'o': 1}\n"
          ]
        }
      ]
    },
    {
      "cell_type": "code",
      "source": [
        "# 문제 3: 튜플과 리스트 변환\n",
        "# 튜플을 리스트로, 리스트를 튜플로 변환하는 함수를 작성하세요.\n",
        "\n",
        "def convert_tuple_list(data):\n",
        "    if type(data) == type(()):\n",
        "        return list(data)\n",
        "    else:\n",
        "        return tuple(data)\n",
        "\n",
        "print(convert_tuple_list((1, 2, 3)))  # 출력: [1, 2, 3]\n",
        "print(convert_tuple_list([1, 2, 3]))  # 출력: (1, 2, 3)"
      ],
      "metadata": {
        "colab": {
          "base_uri": "https://localhost:8080/"
        },
        "id": "HQoYcaGMkTCl",
        "outputId": "c2121d4e-5e12-4178-ea08-37b82d7279d6"
      },
      "execution_count": null,
      "outputs": [
        {
          "output_type": "stream",
          "name": "stdout",
          "text": [
            "[1, 2, 3]\n",
            "(1, 2, 3)\n"
          ]
        }
      ]
    },
    {
      "cell_type": "code",
      "source": [
        "# 문제 4: 집합 교집합, 합집합, 차집합\n",
        "# 두 개의 리스트를 받아서 각각 교집합, 합집합, 차집합을 구하는 함수를 작성하세요.\n",
        "\n",
        "def set_operations(list1, list2):\n",
        "    new_dict = {}\n",
        "    s1 = set(list1)\n",
        "    s2 = set(list2)\n",
        "    new_dict['intersection'] = s1&s2\n",
        "    new_dict['union'] = s1|s2\n",
        "    new_dict['difference'] = s1-s2\n",
        "    return new_dict\n",
        "\n",
        "print(set_operations([1, 2, 3], [3, 4, 5]))\n",
        "# 출력: {'intersection': {3}, 'union': {1, 2, 3, 4, 5}, 'difference': {1, 2}}"
      ],
      "metadata": {
        "colab": {
          "base_uri": "https://localhost:8080/"
        },
        "id": "5e_4DHSfklsf",
        "outputId": "84eb8dfa-8a04-4f7a-a7b0-a84892909dc6"
      },
      "execution_count": null,
      "outputs": [
        {
          "output_type": "stream",
          "name": "stdout",
          "text": [
            "{'intersection': {3}, 'union': {1, 2, 3, 4, 5}, 'difference': {1, 2}}\n"
          ]
        }
      ]
    },
    {
      "cell_type": "code",
      "source": [
        "# 문제 5: 리스트 중간 요소 찾기\n",
        "# 주어진 리스트의 중간 요소를 반환하는 함수를 작성하세요.\n",
        "# 만약 리스트의 길이가 짝수이면, 두 개의 중간 요소를 반환하세요.\n",
        "\n",
        "def find_middle_element(lst):\n",
        "    if len(lst) % 2 == 0:\n",
        "      middle_len = len(lst) // 2\n",
        "      return tuple(lst[middle_len-1:middle_len+1])\n",
        "    else:\n",
        "      middle_len = round(len(lst) // 2)\n",
        "      return lst[middle_len]\n",
        "\n",
        "print(find_middle_element([1, 2, 3, 4, 5]))  # 출력: 3\n",
        "print(find_middle_element([1, 2, 3, 4]))     # 출력: (2, 3)"
      ],
      "metadata": {
        "colab": {
          "base_uri": "https://localhost:8080/"
        },
        "id": "7NPA7T_Em2zf",
        "outputId": "58bb27dc-9751-4f81-d9b1-77f664f07081"
      },
      "execution_count": null,
      "outputs": [
        {
          "output_type": "stream",
          "name": "stdout",
          "text": [
            "3\n",
            "(2, 3)\n"
          ]
        }
      ]
    },
    {
      "cell_type": "code",
      "source": [
        "# 문제 6: 키-값 쌍 리스트 변환\n",
        "# 딕셔너리에서 키와 값을 각각 리스트로 변환하는 함수를 작성하세요.\n",
        "\n",
        "def dict_to_lists(d):\n",
        "    return list(d.keys()), list(d.values())\n",
        "\n",
        "print(dict_to_lists({'a': 1, 'b': 2, 'c': 3}))\n",
        "# 출력: (['a', 'b', 'c'], [1, 2, 3])"
      ],
      "metadata": {
        "colab": {
          "base_uri": "https://localhost:8080/"
        },
        "id": "RkwWuAR4pZlJ",
        "outputId": "cdb5ac2b-2eb9-47ec-9f8e-667d74717973"
      },
      "execution_count": null,
      "outputs": [
        {
          "output_type": "stream",
          "name": "stdout",
          "text": [
            "(['a', 'b', 'c'], [1, 2, 3])\n"
          ]
        }
      ]
    },
    {
      "cell_type": "code",
      "source": [
        "# 문제 7: 문자열에서 단어의 역순 출력\n",
        "# 주어진 문자열에서 단어의 순서를 뒤집어 출력하는 함수를 작성하세요.\n",
        "\n",
        "def reverse_words(s):\n",
        "    pass\n",
        "\n",
        "print(reverse_words(\"Hello World\"))  # 출력: \"World Hello\""
      ],
      "metadata": {
        "id": "tHXcEu-BrHw4"
      },
      "execution_count": null,
      "outputs": []
    },
    {
      "cell_type": "code",
      "source": [
        "# 문제 8: 중복 요소 제거\n",
        "# 주어진 리스트에서 중복된 요소를 제거한 리스트를 반환하는 함수를 작성하세요.\n",
        "\n",
        "def remove_duplicates(lst):\n",
        "    return list(set(lst))\n",
        "\n",
        "print(remove_duplicates([1, 2, 2, 3, 4, 4, 5]))  # 출력: [1, 2, 3, 4, 5]"
      ],
      "metadata": {
        "colab": {
          "base_uri": "https://localhost:8080/"
        },
        "id": "nv5HV7k5rTkR",
        "outputId": "669bcb80-2732-4232-af89-f4c9929c3c04"
      },
      "execution_count": null,
      "outputs": [
        {
          "output_type": "stream",
          "name": "stdout",
          "text": [
            "[1, 2, 3, 4, 5]\n"
          ]
        }
      ]
    },
    {
      "cell_type": "code",
      "source": [
        "# 문제 9: 모든 요소 곱하기\n",
        "# 리스트 안의 모든 요소를 곱한 값을 반환하는 함수를 작성하세요.\n",
        "\n",
        "def multiply_elements(lst):\n",
        "    result = 1\n",
        "    for i in range(len(lst)):\n",
        "        result = result * lst[i]\n",
        "    return result\n",
        "\n",
        "print(multiply_elements([1, 2, 3, 4]))  # 출력: 24"
      ],
      "metadata": {
        "colab": {
          "base_uri": "https://localhost:8080/"
        },
        "id": "MjJVTLX1rZk0",
        "outputId": "f0d6d772-83fe-4089-f0c7-fb385695ebef"
      },
      "execution_count": 2,
      "outputs": [
        {
          "output_type": "stream",
          "name": "stdout",
          "text": [
            "24\n"
          ]
        }
      ]
    },
    {
      "cell_type": "code",
      "source": [
        "# 문제 10: 짝수 인덱스 요소 추출\n",
        "# 주어진 리스트에서 짝수 인덱스에 위치한 요소들만 추출하여\n",
        "# 새로운 리스트를 반환하는 함수를 작성하세요.\n",
        "\n",
        "def even_index_elements(lst):\n",
        "    return [lst[index] for index, val in enumerate(lst) if index % 2 == 0]\n",
        "\n",
        "print(even_index_elements([10, 20, 30, 40, 50]))  # 출력: [10, 30, 50]\n"
      ],
      "metadata": {
        "colab": {
          "base_uri": "https://localhost:8080/"
        },
        "id": "usnFWqxJsi-P",
        "outputId": "07b4e2ac-427d-48d0-b0f4-3b4d819b8ab9"
      },
      "execution_count": 1,
      "outputs": [
        {
          "output_type": "stream",
          "name": "stdout",
          "text": [
            "[10, 30, 50]\n"
          ]
        }
      ]
    },
    {
      "cell_type": "code",
      "source": [
        "# 문제 11: 문자열을 정수로 변환\n",
        "# 문자열로 표현된 숫자를 정수로 변환하는 함수를 작성하세요.\n",
        "# 단, 숫자 이외의 문자가 포함된 경우에는 None을 반환하세요.\n",
        "\n",
        "def str_to_int(s):\n",
        "    try:\n",
        "        return int(s)\n",
        "    except:\n",
        "        return None\n",
        "\n",
        "print(str_to_int(\"12345\"))  # 출력: 12345\n",
        "print(str_to_int(\"12a45\"))  # 출력: None"
      ],
      "metadata": {
        "id": "cBsGEz63xx9U",
        "colab": {
          "base_uri": "https://localhost:8080/"
        },
        "outputId": "07509e81-24c1-4318-8d60-01d77d1a5451"
      },
      "execution_count": 6,
      "outputs": [
        {
          "output_type": "stream",
          "name": "stdout",
          "text": [
            "12345\n",
            "None\n"
          ]
        }
      ]
    },
    {
      "cell_type": "code",
      "source": [
        "# 문제 12: 숫자를 문자열로 변환\n",
        "# 주어진 정수를 문자열로 변환하는 함수를 작성하세요.\n",
        "# 음수와 0도 처리해야 합니다.\n",
        "\n",
        "def int_to_str(n):\n",
        "    return str(f'\"{n}\"')\n",
        "\n",
        "print(int_to_str(12345))  # 출력: \"12345\"\n",
        "print(int_to_str(-12345))  # 출력: \"-12345\""
      ],
      "metadata": {
        "colab": {
          "base_uri": "https://localhost:8080/"
        },
        "id": "mtCegMAefiJK",
        "outputId": "c12c2bd4-449f-4142-eb8d-180a1f4ad996"
      },
      "execution_count": 8,
      "outputs": [
        {
          "output_type": "stream",
          "name": "stdout",
          "text": [
            "\"12345\"\n",
            "\"-12345\"\n"
          ]
        }
      ]
    },
    {
      "cell_type": "code",
      "source": [
        "# 문제 13: 리스트 합치기\n",
        "# 두 개의 리스트를 하나로 합치는 함수를 작성하세요.\n",
        "\n",
        "def concatenate_lists(lst1, lst2):\n",
        "    return lst1 + lst2\n",
        "\n",
        "print(concatenate_lists([1, 2, 3], [4, 5, 6]))  # 출력: [1, 2, 3, 4, 5, 6]"
      ],
      "metadata": {
        "colab": {
          "base_uri": "https://localhost:8080/"
        },
        "id": "RgEIqxvBgVmR",
        "outputId": "649fed2f-7e52-4285-8fd9-5c9da3982b6e"
      },
      "execution_count": 17,
      "outputs": [
        {
          "output_type": "stream",
          "name": "stdout",
          "text": [
            "[1, 2, 3, 4, 5, 6]\n"
          ]
        }
      ]
    },
    {
      "cell_type": "code",
      "source": [
        "# 문제 14: 문자열에서 모음 개수 세기\n",
        "# 주어진 문자열에서 모음(a, e, i, o, u)의 개수를 세는 함수를 작성하세요.\n",
        "\n",
        "def count_vowels(s):\n",
        "    new_list = 'aeiou'\n",
        "    result = 0\n",
        "    for temp in range(len(new_list)):\n",
        "        result = result + s.count(new_list[temp])\n",
        "    return result\n",
        "\n",
        "print(count_vowels(\"hello world\"))  # 출력: 3"
      ],
      "metadata": {
        "colab": {
          "base_uri": "https://localhost:8080/"
        },
        "id": "AztI2M2_l7zm",
        "outputId": "93ea89b2-577e-4df0-ea09-251cb244a307"
      },
      "execution_count": 19,
      "outputs": [
        {
          "output_type": "stream",
          "name": "stdout",
          "text": [
            "3\n"
          ]
        }
      ]
    },
    {
      "cell_type": "code",
      "source": [
        "# 문제 15: 중첩 리스트 평탄화\n",
        "# 중첩된 리스트를 평탄화하여 단일 리스트로 만드는 함수를 작성하세요.\n",
        "\n",
        "def flatten_list(lst):\n",
        "    result = []\n",
        "    for item in lst:\n",
        "        if isinstance(item, list):\n",
        "            result.extend(flatten_list(item))\n",
        "        else:\n",
        "            result.append(item)\n",
        "    return result\n",
        "\n",
        "\n",
        "print(flatten_list([1, [2, 3], [4, [5, 6]], 7]))\n",
        "# 출력: [1, 2, 3, 4, 5, 6, 7]"
      ],
      "metadata": {
        "colab": {
          "base_uri": "https://localhost:8080/"
        },
        "id": "W7_MON39mCOH",
        "outputId": "191df31b-88ed-438c-b413-fc30d82ec331"
      },
      "execution_count": 21,
      "outputs": [
        {
          "output_type": "stream",
          "name": "stdout",
          "text": [
            "[1, 2, 3, 4, 5, 6, 7]\n"
          ]
        }
      ]
    }
  ]
}