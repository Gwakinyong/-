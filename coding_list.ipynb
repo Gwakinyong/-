{
  "nbformat": 4,
  "nbformat_minor": 0,
  "metadata": {
    "colab": {
      "provenance": [],
      "gpuType": "T4",
      "authorship_tag": "ABX9TyOzfRR3PkstcdJxGH2SUaIF",
      "include_colab_link": true
    },
    "kernelspec": {
      "name": "python3",
      "display_name": "Python 3"
    },
    "language_info": {
      "name": "python"
    },
    "accelerator": "GPU"
  },
  "cells": [
    {
      "cell_type": "markdown",
      "metadata": {
        "id": "view-in-github",
        "colab_type": "text"
      },
      "source": [
        "<a href=\"https://colab.research.google.com/github/Gwakinyong/-/blob/master/coding_list.ipynb\" target=\"_parent\"><img src=\"https://colab.research.google.com/assets/colab-badge.svg\" alt=\"Open In Colab\"/></a>"
      ]
    },
    {
      "cell_type": "code",
      "execution_count": null,
      "metadata": {
        "colab": {
          "base_uri": "https://localhost:8080/"
        },
        "id": "nrpX5MRUajnN",
        "outputId": "1cbe34ae-57fa-4721-abb7-38648c0b7b4b"
      },
      "outputs": [
        {
          "output_type": "stream",
          "name": "stdout",
          "text": [
            "10\n"
          ]
        }
      ],
      "source": [
        "# 문제 1: 리스트의 합 구하기\n",
        "# 주어진 리스트의 모든 요소의 합을 구하는 함수를 작성하세요.\n",
        "\n",
        "def sum_of_list(lst):\n",
        "    my_lst = sum(lst)\n",
        "    return my_lst\n",
        "\n",
        "print(sum_of_list([1, 2, 3, 4]))  # 출력: 10"
      ]
    },
    {
      "cell_type": "code",
      "source": [
        "# 문제 2: 리스트에서 최댓값과 최솟값 구하기\n",
        "# 리스트에서 최댓값과 최솟값을 구하는 함수를 작성하세요.\n",
        "\n",
        "def max_and_min(lst):\n",
        "    lst.sort()\n",
        "    return lst[-1], lst[0]\n",
        "\n",
        "print(max_and_min([10, 20, 4, 45, 99]))  # 출력: (99, 4)"
      ],
      "metadata": {
        "colab": {
          "base_uri": "https://localhost:8080/"
        },
        "id": "8AZ58XnlbTti",
        "outputId": "b5e6e654-f1f5-478b-8667-12fe8ee0b98b"
      },
      "execution_count": null,
      "outputs": [
        {
          "output_type": "stream",
          "name": "stdout",
          "text": [
            "(99, 4)\n"
          ]
        }
      ]
    },
    {
      "cell_type": "code",
      "source": [
        "# 문제 3: 리스트 뒤집기\n",
        "# 주어진 리스트를 역순으로 뒤집는 함수를 작성하세요.\n",
        "# (직접 구현해 보세요, list.reverse() 사용하지 말 것)\n",
        "\n",
        "def reverse_list(lst):\n",
        "    result = lst[::-1]\n",
        "    return result\n",
        "\n",
        "print(reverse_list([1, 2, 3, 4]))  # 출력: [4, 3, 2, 1]\n"
      ],
      "metadata": {
        "colab": {
          "base_uri": "https://localhost:8080/"
        },
        "id": "mTlZMrnddRYo",
        "outputId": "3b484d2f-cdc8-4d8a-b4f3-90fc0ff96e6d"
      },
      "execution_count": null,
      "outputs": [
        {
          "output_type": "stream",
          "name": "stdout",
          "text": [
            "[4, 3, 2, 1]\n"
          ]
        }
      ]
    },
    {
      "cell_type": "code",
      "source": [
        "# 문제 4: 리스트 중복 제거\n",
        "# 리스트에서 중복된 요소를 제거하고, 중복이 제거된 리스트를 반환하는 함수를 작성하세요.\n",
        "\n",
        "def remove_duplicates(lst):\n",
        "    result = list(set(lst))\n",
        "    return result\n",
        "\n",
        "print(remove_duplicates([1, 2, 2, 3, 4, 4, 5]))  # 출력: [1, 2, 3, 4, 5]"
      ],
      "metadata": {
        "colab": {
          "base_uri": "https://localhost:8080/"
        },
        "id": "nCeN7zf2jL0X",
        "outputId": "42f947a2-ca6e-4fee-b40d-bc997e518db7"
      },
      "execution_count": null,
      "outputs": [
        {
          "output_type": "stream",
          "name": "stdout",
          "text": [
            "[1, 2, 3, 4, 5]\n"
          ]
        }
      ]
    },
    {
      "cell_type": "code",
      "source": [
        "# 문제 5: 리스트 요소들의 곱 구하기\n",
        "# 리스트의 모든 요소의 곱을 구하는 함수를 작성하세요.\n",
        "\n",
        "def multiply_list(lst):\n",
        "    lst_result = 1  # Initialize the result to 1\n",
        "    for mst in lst:\n",
        "        lst_result = lst_result * mst\n",
        "    return lst_result\n",
        "\n",
        "print(multiply_list([1, 2, 3, 4]))  # 출력: 24"
      ],
      "metadata": {
        "colab": {
          "base_uri": "https://localhost:8080/"
        },
        "id": "fdYF0uK6uzXK",
        "outputId": "d4a86c00-955d-4339-aa70-b965576311fb"
      },
      "execution_count": null,
      "outputs": [
        {
          "output_type": "stream",
          "name": "stdout",
          "text": [
            "24\n"
          ]
        }
      ]
    },
    {
      "cell_type": "code",
      "source": [
        "# 문제 6: 리스트에서 짝수와 홀수 구분하기\n",
        "# 주어진 리스트에서 짝수와 홀수를 구분하여 별도의 리스트에 저장한 뒤 반환하는 함수를 작성하세요.\n",
        "\n",
        "def separate_even_odd(lst):\n",
        "    co_result = [tmp for tmp in lst if tmp % 2 == 0]\n",
        "    co1_result = [tmp for tmp in lst if tmp % 2 != 0]\n",
        "    return(co_result, co1_result)\n",
        "\n",
        "print(separate_even_odd([1, 2, 3, 4, 5, 6, 7, 8, 9]))\n",
        "# 출력: ([2, 4, 6, 8], [1, 3, 5, 7, 9])"
      ],
      "metadata": {
        "colab": {
          "base_uri": "https://localhost:8080/"
        },
        "id": "W2OfXgFCwSmk",
        "outputId": "f55f544d-bd0e-4fe4-b990-c751cbe54564"
      },
      "execution_count": null,
      "outputs": [
        {
          "output_type": "stream",
          "name": "stdout",
          "text": [
            "([2, 4, 6, 8], [1, 3, 5, 7, 9])\n"
          ]
        }
      ]
    },
    {
      "cell_type": "code",
      "source": [
        "# 문제 7: 리스트 요소들의 위치 교환\n",
        "# 리스트의 첫 번째 요소와 마지막 요소의 위치를 바꾸는 함수를 작성하세요.\n",
        "\n",
        "def swap_first_last(lst):\n",
        "    new_lst = lst[:]\n",
        "    lst[0] = lst[-1]\n",
        "    lst[-1] = new_lst[0]\n",
        "    return lst\n",
        "\n",
        "print(swap_first_last([1, 2, 3, 4, 5]))  # 출력: [5, 2, 3, 4, 1]"
      ],
      "metadata": {
        "colab": {
          "base_uri": "https://localhost:8080/"
        },
        "id": "GWir0KSmx46j",
        "outputId": "07410f7e-9896-47ce-a938-00b21adf1f2c"
      },
      "execution_count": null,
      "outputs": [
        {
          "output_type": "stream",
          "name": "stdout",
          "text": [
            "[5, 2, 3, 4, 1]\n"
          ]
        }
      ]
    },
    {
      "cell_type": "code",
      "source": [
        "# 문제 8: 리스트에서 특정 요소의 모든 인덱스 찾기\n",
        "# 리스트에서 특정 요소가 나타나는 모든 인덱스를 리스트로 반환하는 함수를 작성하세요.\n",
        "\n",
        "def find_all_indices(lst, value):\n",
        "    new_list = [tmp for tmp in lst if tmp % value != 0]\n",
        "    return new_list\n",
        "\n",
        "print(find_all_indices([1, 2, 3, 2, 4, 2, 5], 2))  # 출력: [1, 3, 5]"
      ],
      "metadata": {
        "colab": {
          "base_uri": "https://localhost:8080/"
        },
        "id": "B1TEde1t3rHf",
        "outputId": "f2dafeda-5a20-4a7c-ea6d-f1f24d951cf8"
      },
      "execution_count": null,
      "outputs": [
        {
          "output_type": "stream",
          "name": "stdout",
          "text": [
            "[1, 3, 5]\n"
          ]
        }
      ]
    },
    {
      "cell_type": "code",
      "source": [
        "# 문제 9: 리스트의 중간 요소 찾기\n",
        "# 리스트의 중간에 있는 요소를 반환하는 함수를 작성하세요.\n",
        "# 리스트의 길이가 짝수일 경우 두 개의 중간 요소를 반환하세요.\n",
        "\n",
        "def find_middle(lst):\n",
        "    if len(lst) % 2 == 0:\n",
        "      middle_len = len(lst) // 2\n",
        "      return tuple(lst[middle_len-1:middle_len+1])\n",
        "    else:\n",
        "      middle_len = round(len(lst) // 2)\n",
        "      return lst[middle_len]\n",
        "\n",
        "print(find_middle([1, 2, 3, 4, 5]))  # 출력: 3\n",
        "print(find_middle([1, 2, 3, 4]))     # 출력: (2, 3)"
      ],
      "metadata": {
        "colab": {
          "base_uri": "https://localhost:8080/"
        },
        "id": "98HkK_iz4XME",
        "outputId": "32eb53c6-fe20-4a0c-93d4-6dab6217e5bd"
      },
      "execution_count": null,
      "outputs": [
        {
          "output_type": "stream",
          "name": "stdout",
          "text": [
            "3\n",
            "(2, 3)\n"
          ]
        }
      ]
    },
    {
      "cell_type": "code",
      "source": [
        "# 문제 10: 중첩 리스트 펼치기 (Flattening)\n",
        "# 중첩된 리스트를 평평하게 만들어 단일 리스트로 반환하는 함수를 작성하세요.\n",
        "\n",
        "def flatten(lst):\n",
        "    result = []\n",
        "    for item in lst:\n",
        "        if isinstance(item, list):\n",
        "            result.extend(flatten(item))\n",
        "        else:\n",
        "            result.append(item)\n",
        "    return result\n",
        "\n",
        "print(flatten([1, [2, 3], [4, [5, 6]], 7]))  # 출력: [1, 2, 3, 4, 5, 6, 7]"
      ],
      "metadata": {
        "colab": {
          "base_uri": "https://localhost:8080/"
        },
        "id": "KSaQ-vsL8qbl",
        "outputId": "4742517d-9019-4a7f-98b0-24e3b89e2a98"
      },
      "execution_count": null,
      "outputs": [
        {
          "output_type": "stream",
          "name": "stdout",
          "text": [
            "[1, 2, 3, 4, 5, 6, 7]\n"
          ]
        }
      ]
    },
    {
      "cell_type": "markdown",
      "source": [
        "\n",
        "\n",
        "---\n",
        "\n",
        "\n"
      ],
      "metadata": {
        "id": "6xExQHMVBbSi"
      }
    },
    {
      "cell_type": "code",
      "source": [
        "# 문제 1: 딕셔너리에서 값의 합 구하기\n",
        "# 주어진 딕셔너리에서 모든 값의 합을 구하는 함수를 작성하세요.\n",
        "# (딕셔너리의 값은 모두 숫자라고 가정합니다.)\n",
        "\n",
        "def sum_of_dict_values(d):\n",
        "    result = sum(d.values())\n",
        "    return result\n",
        "\n",
        "print(sum_of_dict_values({'a': 100, 'b': 200, 'c': 300}))  # 출력: 600"
      ],
      "metadata": {
        "colab": {
          "base_uri": "https://localhost:8080/"
        },
        "id": "V8Ya6V9yBiEj",
        "outputId": "62d39520-bcf8-4666-a6d4-8d62015fdfe4"
      },
      "execution_count": null,
      "outputs": [
        {
          "output_type": "stream",
          "name": "stdout",
          "text": [
            "600\n"
          ]
        }
      ]
    },
    {
      "cell_type": "code",
      "source": [
        "# 문제 2: 딕셔너리에서 특정 값 찾기\n",
        "# 딕셔너리에서 특정 값을 가지는 첫 번째 키를 반환하는 함수를 작성하세요.\n",
        "# 값이 없는 경우 None을 반환합니다.\n",
        "\n",
        "def find_key_by_value(d, value):\n",
        "    for key, val in d.items():\n",
        "        if val == value:\n",
        "            return key\n",
        "    return None\n",
        "\n",
        "print(find_key_by_value({'a': 100, 'b': 200, 'c': 300}, 200))  # 출력: 'b'\n",
        "print(find_key_by_value({'a': 100, 'b': 200, 'c': 300}, 400))  # 출력: None"
      ],
      "metadata": {
        "colab": {
          "base_uri": "https://localhost:8080/"
        },
        "id": "6BGirSGaGD58",
        "outputId": "36a63fda-d99a-4618-fa23-595c48677ee6"
      },
      "execution_count": null,
      "outputs": [
        {
          "output_type": "stream",
          "name": "stdout",
          "text": [
            "b\n",
            "None\n"
          ]
        }
      ]
    },
    {
      "cell_type": "code",
      "source": [
        "# 문제 3: 키 값 뒤집기\n",
        "# 주어진 딕셔너리에서 키와 값을 뒤집어 새로운 딕셔너리를 반환하는\n",
        "# 함수를 작성하세요. (값은 고유하다고 가정합니다.)\n",
        "\n",
        "def invert_dict(d):\n",
        "    new1_dict = {}\n",
        "    for key, val in d.items():\n",
        "        new_dict = {val: key}\n",
        "        new1_dict.update(new_dict)\n",
        "    return new1_dict\n",
        "\n",
        "print(invert_dict({'a': 1, 'b': 2, 'c': 3}))\n",
        "# 출력: {1: 'a', 2: 'b', 3: 'c'}"
      ],
      "metadata": {
        "colab": {
          "base_uri": "https://localhost:8080/"
        },
        "id": "hjk8kpmlKMNw",
        "outputId": "26630027-1701-4119-f912-a635adaf853e"
      },
      "execution_count": null,
      "outputs": [
        {
          "output_type": "stream",
          "name": "stdout",
          "text": [
            "{1: 'a', 2: 'b', 3: 'c'}\n"
          ]
        }
      ]
    },
    {
      "cell_type": "code",
      "source": [
        "# 문제 4: 두 딕셔너리 합치기\n",
        "# 두 개의 딕셔너리를 합쳐서 새로운 딕셔너리를 반환하는 함수를 작성하세요.\n",
        "# 만약 동일한 키가 존재하면 두 값의 합을 사용하세요.\n",
        "\n",
        "def merge_dicts(d1, d2):\n",
        "\n",
        "\n",
        "print(merge_dicts({'a': 100, 'b': 200}, {'b': 300, 'c': 400}))\n",
        "# 출력: {'a': 100, 'b': 500, 'c': 400}"
      ],
      "metadata": {
        "colab": {
          "base_uri": "https://localhost:8080/"
        },
        "id": "BNl6vqxxNSol",
        "outputId": "ca1e777d-bd82-4bbf-9f41-41633f13c6c1"
      },
      "execution_count": null,
      "outputs": [
        {
          "output_type": "stream",
          "name": "stdout",
          "text": [
            "{'a': 100, 'b': 500, 'c': 400}\n"
          ]
        }
      ]
    }
  ]
}